{
 "cells": [
  {
   "cell_type": "code",
   "execution_count": 15,
   "metadata": {},
   "outputs": [
    {
     "name": "stdout",
     "output_type": "stream",
     "text": [
      "Successfully trained model with an accuracy of 0.87\n"
     ]
    }
   ],
   "source": [
    "from sklearn import datasets\n",
    "from sklearn.model_selection import train_test_split\n",
    "from sklearn.neighbors import KNeighborsClassifier\n",
    "from sklearn.metrics import accuracy_score\n",
    "import joblib\n",
    "import numpy as np\n",
    "\n",
    "\n",
    "def train(X,y):\n",
    "\n",
    "    # train test split\n",
    "    X_train, X_test, y_train, y_test = train_test_split(X, y, test_size=0.3)\n",
    "\n",
    "    knn = KNeighborsClassifier(n_neighbors=1)\n",
    "\n",
    "    # fit the model\n",
    "    knn.fit(X_train, y_train)\n",
    "    preds = knn.predict(X_test)\n",
    "    acc = accuracy_score(y_test, preds)\n",
    "    print(f'Successfully trained model with an accuracy of {acc:.2f}')\n",
    "\n",
    "    return knn\n",
    "\n",
    "if __name__ == '__main__':\n",
    "\n",
    "    iris_data = datasets.load_iris()\n",
    "    X = iris_data['data']\n",
    "    y = iris_data['target']\n",
    "\n",
    "    labels = {0 : 'iris-setosa',\n",
    "              1 : 'iris-versicolor',\n",
    "              2 : 'iris-virginica'}\n",
    "\n",
    "    # rename integer labels to actual flower names\n",
    "    y = np.vectorize(labels.__getitem__)(y)\n",
    "\n",
    "    mdl = train(X,y)\n",
    "\n",
    "    # serialize model\n",
    "    joblib.dump(mdl, 'iris.mdl')"
   ]
  },
  {
   "cell_type": "code",
   "execution_count": 28,
   "metadata": {},
   "outputs": [
    {
     "data": {
      "text/plain": [
       "array(['iris-setosa'], dtype='<U15')"
      ]
     },
     "execution_count": 28,
     "metadata": {},
     "output_type": "execute_result"
    }
   ],
   "source": [
    "mdl.predict(X[[0]])"
   ]
  },
  {
   "cell_type": "code",
   "execution_count": 22,
   "metadata": {},
   "outputs": [
    {
     "data": {
      "text/plain": [
       "array([[4.9, 3. , 1.4, 0.2],\n",
       "       [4.7, 3.2, 1.3, 0.2]])"
      ]
     },
     "execution_count": 22,
     "metadata": {},
     "output_type": "execute_result"
    }
   ],
   "source": [
    "X[[1,2]]"
   ]
  },
  {
   "cell_type": "code",
   "execution_count": 33,
   "metadata": {},
   "outputs": [
    {
     "data": {
      "text/plain": [
       "{'message': \"Did not attempt to load JSON data because the request Content-Type was not 'application/json'.\"}"
      ]
     },
     "execution_count": 33,
     "metadata": {},
     "output_type": "execute_result"
    }
   ],
   "source": [
    "import requests\n",
    "\n",
    "url = 'http://127.0.0.1:1080/predict'  # localhost and the defined port + endpoint\n",
    "body = {\n",
    "    \"petal_length\": 2,\n",
    "    \"sepal_length\": 2,\n",
    "    \"petal_width\": 0.5,\n",
    "    \"sepal_width\": 3\n",
    "}\n",
    "\n",
    "response = requests.post(url, data=body)\n",
    "response.json()"
   ]
  },
  {
   "cell_type": "code",
   "execution_count": null,
   "metadata": {},
   "outputs": [],
   "source": []
  }
 ],
 "metadata": {
  "interpreter": {
   "hash": "aee8b7b246df8f9039afb4144a1f6fd8d2ca17a180786b69acc140d282b71a49"
  },
  "kernelspec": {
   "display_name": "Python 3.9.5 64-bit",
   "language": "python",
   "name": "python3"
  },
  "language_info": {
   "name": "python",
   "version": "3.9.5"
  },
  "orig_nbformat": 4
 },
 "nbformat": 4,
 "nbformat_minor": 2
}
